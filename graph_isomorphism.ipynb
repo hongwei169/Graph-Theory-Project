{
 "cells": [
  {
   "attachments": {},
   "cell_type": "markdown",
   "metadata": {},
   "source": [
    "#   The Graph Isomorphism Problem\n",
    "\n",
    "---"
   ]
  },
  {
   "attachments": {},
   "cell_type": "markdown",
   "metadata": {},
   "source": [
    "Graph Isomorphism is a problem in graph theory that asks whether two graphs are isomorphic. For example, the following two graphs are isomorphic:"
   ]
  },
  {
   "attachments": {},
   "cell_type": "markdown",
   "metadata": {},
   "source": [
    "![Alt text](picture/cycleandstar.jpg)"
   ]
  },
  {
   "attachments": {},
   "cell_type": "markdown",
   "metadata": {},
   "source": [
    "Two graphs are isomorphic if they have the same number of vertices and edges, and if the vertices can be relabeled such that the edges between the vertices are preserved.\n",
    "\n",
    "\n",
    "\n",
    "---"
   ]
  },
  {
   "attachments": {},
   "cell_type": "markdown",
   "metadata": {},
   "source": [
    "# Conditions for Isomorphism\n",
    "\n",
    "The following conditions must be met for two graphs to be isomorphic:\n",
    "\n",
    "1. The graphs must have the same number of vertices and edges.\n",
    "2. The graphs must have the same degree sequence.\n",
    "3. The graphs must have the same number of connected components.\n",
    "4. The graphs must have the same number of vertices of each degree.\n",
    "5. The graphs must have the same number of vertices of each degree in each connected component.\n",
    "\n",
    "\n",
    "\n",
    "---\n"
   ]
  },
  {
   "attachments": {},
   "cell_type": "markdown",
   "metadata": {},
   "source": [
    "To check whether two graphs are isomorphic or not, we can use the NetworkX library in Python. Here's an example code to check the isomorphism between two graphs using NetworkX:"
   ]
  },
  {
   "cell_type": "code",
   "execution_count": 1,
   "metadata": {},
   "outputs": [
    {
     "name": "stdout",
     "output_type": "stream",
     "text": [
      "The graphs are isomorphic.\n"
     ]
    }
   ],
   "source": [
    "import networkx as nx\n",
    "\n",
    "# Create two example graphs\n",
    "G1 = nx.Graph()\n",
    "G1.add_edges_from([(1, 2), (1, 3), (2, 4), (3, 4)])\n",
    "G2 = nx.Graph()\n",
    "G2.add_edges_from([(5, 6), (5, 7), (6, 8), (7, 8)])\n",
    "\n",
    "# Check if the graphs are isomorphic\n",
    "if nx.is_isomorphic(G1, G2):\n",
    "    print(\"The graphs are isomorphic.\")\n",
    "else:\n",
    "    print(\"The graphs are not isomorphic.\")\n"
   ]
  },
  {
   "attachments": {},
   "cell_type": "markdown",
   "metadata": {},
   "source": [
    "In this example, we create two example graphs G1 and G2 using the add_edges_from method to add the edges. Then, we use the is_isomorphic function from the NetworkX library to check whether the two graphs are isomorphic or not. The function returns True if the graphs are isomorphic, otherwise it returns False.\n",
    "\n",
    "You can replace the graphs G1 and G2 with your own graphs to check for their isomorphism. Note that the is_isomorphic function may not be efficient for very large graphs because it uses an algorithm based on graph automorphisms, which has a time complexity of O(n^4) in the worst case. \n",
    "\n",
    "---"
   ]
  },
  {
   "cell_type": "code",
   "execution_count": 4,
   "metadata": {},
   "outputs": [
    {
     "name": "stdout",
     "output_type": "stream",
     "text": [
      "The graphs are not isomorphic.\n"
     ]
    }
   ],
   "source": [
    "import networkx as nx\n",
    "\n",
    "# Create the two graphs\n",
    "G1 = nx.Graph([(1,2), (1,3), (2,3)])\n",
    "G2 = nx.Graph([(4,5), (4,6), (5,7)])\n",
    "\n",
    "# Check for isomorphism\n",
    "if nx.is_isomorphic(G1, G2):\n",
    "    print(\"The graphs are isomorphic.\")\n",
    "else:\n",
    "    print(\"The graphs are not isomorphic.\")\n"
   ]
  },
  {
   "attachments": {},
   "cell_type": "markdown",
   "metadata": {},
   "source": [
    "In this example, the two graphs have the same number of vertices and edges (3 verticles and 3 edges), but they are not isomorphic. In the graph 1, the vertex 1 is connected to vertices 2 and 3, while in Graph 2, vertex 4 is only connected to vertices 5 and 6. Similarly, vertex 2 in Graph 1 is connected to vertices 1 and 3, while vertex 5 in Graph 2 is connected to vertices 4 and 7. Therefore, the two graphs are not isomorphic even though they have the same number of vertices and edges because there is no bijective function between the vertices of Graph 1 and Graph 2 that preserves the adjacency relationships.\n",
    "\n",
    "---"
   ]
  }
 ],
 "metadata": {
  "kernelspec": {
   "display_name": "base",
   "language": "python",
   "name": "python3"
  },
  "language_info": {
   "codemirror_mode": {
    "name": "ipython",
    "version": 3
   },
   "file_extension": ".py",
   "mimetype": "text/x-python",
   "name": "python",
   "nbconvert_exporter": "python",
   "pygments_lexer": "ipython3",
   "version": "3.9.13"
  },
  "orig_nbformat": 4,
  "vscode": {
   "interpreter": {
    "hash": "7679c2132d3f6ce38c9df14d554b39c06862b36a4e6689c81f9ae15bd0911d7d"
   }
  }
 },
 "nbformat": 4,
 "nbformat_minor": 2
}
