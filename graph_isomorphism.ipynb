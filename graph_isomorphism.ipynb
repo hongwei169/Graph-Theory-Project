{
 "cells": [
  {
   "attachments": {},
   "cell_type": "markdown",
   "metadata": {},
   "source": [
    "#   The Graph Isomorphism Problem\n",
    "\n",
    "---"
   ]
  },
  {
   "attachments": {},
   "cell_type": "markdown",
   "metadata": {},
   "source": [
    "Graph Isomorphism is a problem in graph theory that asks whether two graphs are isomorphic. For example, the following two graphs are isomorphic:"
   ]
  },
  {
   "attachments": {},
   "cell_type": "markdown",
   "metadata": {},
   "source": [
    "![Alt text](picture/cycleandstar.jpg)"
   ]
  },
  {
   "attachments": {},
   "cell_type": "markdown",
   "metadata": {},
   "source": [
    "Two graphs are isomorphic if they have the same number of vertices and edges, and if the vertices can be relabeled such that the edges between the vertices are preserved.\n",
    "\n",
    "\n",
    "\n",
    "---"
   ]
  },
  {
   "attachments": {},
   "cell_type": "markdown",
   "metadata": {},
   "source": [
    "# Conditions for Isomorphism\n",
    "\n",
    "The following conditions must be met for two graphs to be isomorphic:\n",
    "\n",
    "1. The graphs must have the same number of vertices and edges.\n",
    "2. The graphs must have the same degree sequence.\n",
    "3. The graphs must have the same number of connected components.\n",
    "4. The graphs must have the same number of vertices of each degree.\n",
    "5. The graphs must have the same number of vertices of each degree in each connected component.\n",
    "\n",
    "\n",
    "\n",
    "---\n"
   ]
  }
 ],
 "metadata": {
  "kernelspec": {
   "display_name": "base",
   "language": "python",
   "name": "python3"
  },
  "language_info": {
   "name": "python",
   "version": "3.9.13"
  },
  "orig_nbformat": 4,
  "vscode": {
   "interpreter": {
    "hash": "7679c2132d3f6ce38c9df14d554b39c06862b36a4e6689c81f9ae15bd0911d7d"
   }
  }
 },
 "nbformat": 4,
 "nbformat_minor": 2
}
