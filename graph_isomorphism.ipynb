{
 "cells": [
  {
   "attachments": {},
   "cell_type": "markdown",
   "metadata": {},
   "source": [
    "#   The Graph Isomorphism Problem\n",
    "\n",
    "---"
   ]
  },
  {
   "attachments": {},
   "cell_type": "markdown",
   "metadata": {},
   "source": [
    "The graph isomorphism problem is a fundamental problem in computer science, mathematics, and other related fields. This problem is concerned with determining whether two given graphs are isomorphic or not.  In other words, if we can rearrange the vertices and edges of one graph to obtain the other graph, then they are isomorphic.\n",
    "\n",
    "In computer science, the graph isomorphism problem arises in many different contexts. For example, it is important in the design and analysis of algorithms that operate on graphs, such as network routing algorithms or social network analysis algorithms. It is also relevant in the study of database systems, where graphs can be used to represent relationships between data objects, and in machine learning, where graphs can be used to represent data structures.\n",
    "\n",
    "Overall, the graph isomorphism problem is an important and challenging problem in computer science and mathematics, with numerous applications in various fields. Despite its difficulty, researchers continue to study this problem and develop new methods and algorithms to solve it, as it has the potential to unlock insights and solutions in many different areas of science and technology.\n",
    "\n",
    "For example, the following two graphs are isomorphic:"
   ]
  },
  {
   "attachments": {},
   "cell_type": "markdown",
   "metadata": {},
   "source": [
    "![Alt text](picture/cycleandstar.jpg)"
   ]
  },
  {
   "attachments": {},
   "cell_type": "markdown",
   "metadata": {},
   "source": [
    "Two graphs are isomorphic if they have the same number of vertices and edges, and if the vertices can be relabeled such that the edges between the vertices are preserved.\n",
    "\n",
    "Two of the graphs above looks different, but are actually isomorphic. The redrawn graph on the right is completely same from the graph on the left. \n",
    "\n",
    "---"
   ]
  },
  {
   "attachments": {},
   "cell_type": "markdown",
   "metadata": {},
   "source": [
    "# Conditions for Isomorphism\n",
    "\n",
    "The following conditions must be met for two graphs to be isomorphic:\n",
    "\n",
    "1. The graphs must have the same number of vertices and edges.\n",
    "2. The graphs must have the same degree sequence.\n",
    "3. The graphs must have the same number of connected components.\n",
    "4. The graphs must have the same number of vertices of each degree.\n",
    "5. The graphs must have the same number of vertices of each degree in each connected component.\n",
    "\n",
    "\n",
    "\n",
    "---\n"
   ]
  },
  {
   "attachments": {},
   "cell_type": "markdown",
   "metadata": {},
   "source": [
    "To check whether two graphs are isomorphic or not, we can use the NetworkX library in Python and NetworkX is a Python package for the creation, manipulation, and study of the structure, dynamics, and functions of complex networks.\n",
    "\n",
    "Here's an example code to check the isomorphism between two graphs using NetworkX:"
   ]
  },
  {
   "cell_type": "code",
   "execution_count": 1,
   "metadata": {},
   "outputs": [
    {
     "name": "stdout",
     "output_type": "stream",
     "text": [
      "The graphs are isomorphic.\n"
     ]
    }
   ],
   "source": [
    "import networkx as nx\n",
    "\n",
    "# Create two example graphs\n",
    "G1 = nx.Graph()\n",
    "G1.add_edges_from([(1, 2), (1, 3), (2, 4), (3, 4)])\n",
    "G2 = nx.Graph()\n",
    "G2.add_edges_from([(5, 6), (5, 7), (6, 8), (7, 8)])\n",
    "\n",
    "# Check if the graphs are isomorphic\n",
    "if nx.is_isomorphic(G1, G2):\n",
    "    print(\"The graphs are isomorphic.\")\n",
    "else:\n",
    "    print(\"The graphs are not isomorphic.\")\n"
   ]
  },
  {
   "attachments": {},
   "cell_type": "markdown",
   "metadata": {},
   "source": [
    "In this example, we create two example graphs G1 and G2 using the add_edges_from method to add the edges. Then, we use the is_isomorphic function from the NetworkX library to check whether the two graphs are isomorphic or not. The function returns True if the graphs are isomorphic, otherwise it returns False.\n",
    "\n",
    "You can replace the graphs G1 and G2 with your own graphs to check for their isomorphism. Note that the is_isomorphic function may not be efficient for very large graphs because it uses an algorithm based on graph automorphisms, which has a time complexity of O(n^4) in the worst case. \n",
    "\n",
    "---"
   ]
  },
  {
   "cell_type": "code",
   "execution_count": 4,
   "metadata": {},
   "outputs": [
    {
     "name": "stdout",
     "output_type": "stream",
     "text": [
      "The graphs are not isomorphic.\n"
     ]
    }
   ],
   "source": [
    "import networkx as nx\n",
    "\n",
    "# Create the two graphs\n",
    "G1 = nx.Graph([(1,2), (1,3), (2,3)])\n",
    "G2 = nx.Graph([(4,5), (4,6), (5,7)])\n",
    "\n",
    "# Check for isomorphism\n",
    "if nx.is_isomorphic(G1, G2):\n",
    "    print(\"The graphs are isomorphic.\")\n",
    "else:\n",
    "    print(\"The graphs are not isomorphic.\")\n"
   ]
  },
  {
   "attachments": {},
   "cell_type": "markdown",
   "metadata": {},
   "source": [
    "In this example, the two graphs have the same number of vertices and edges (3 verticles and 3 edges), but they are not isomorphic. In the graph 1, the vertex 1 is connected to vertices 2 and 3, while in Graph 2, vertex 4 is only connected to vertices 5 and 6. Similarly, vertex 2 in Graph 1 is connected to vertices 1 and 3, while vertex 5 in Graph 2 is connected to vertices 4 and 7. Therefore, the two graphs are not isomorphic even though they have the same number of vertices and edges because there is no bijective function between the vertices of Graph 1 and Graph 2 that preserves the adjacency relationships.\n",
    "\n",
    "---"
   ]
  },
  {
   "attachments": {},
   "cell_type": "markdown",
   "metadata": {},
   "source": [
    "# Babai's Algorithm\n",
    "\n",
    "Babai's algorithm is a computational procedure that was developed by Laszlo Babai in 2015, a Hungarian mathematician and computer scientist. This algorithm is used to solve the Graph Isomorphism problem which is a fundamental problem in the field of computer science. The Graph Isomorphism problem is concerned with determining whether two given graphs are isomorphic. An isomorphic graph is one that has the same structure as another graph, but with different labels assigned to its vertices.\n",
    "\n",
    "Babai's algorithm is considered to be a significant breakthrough in the field of computational complexity theory. It has been shown to be capable of solving the Graph Isomorphism problem in quasipolynomial time. This is a significant improvement over previous algorithms, which were only able to solve the problem in exponential time.\n",
    "\n",
    "The algorithm works by first transforming the two graphs into their canonical form. This means that the algorithm is able to find a unique representation of each graph that is independent of any particular labeling of the vertices. Once the graphs have been transformed into their canonical form, the algorithm compares them to determine whether they are isomorphic.\n",
    "\n",
    "The development of Babai's algorithm has significant implications for a wide range of fields, including cryptography, computer science, and mathematics. It has the potential to be used in the development of more efficient algorithms for solving other complex problems. Additionally, it has opened up new avenues of research in the field of computational complexity theory.\n",
    "\n",
    "In conclusion, Babai's algorithm is a powerful computational tool that has revolutionized the way that we approach the Graph Isomorphism problem. Its ability to solve the problem in quasipolynomial time has significant implications for a wide range of fields, and it has the potential to be used in the development of more efficient algorithms for solving other complex problems. "
   ]
  },
  {
   "attachments": {},
   "cell_type": "markdown",
   "metadata": {},
   "source": [
    "# References\n",
    "\n",
    "M Grohe. \"The graph isomorphism problem.\"https://dl.acm.org/doi/pdf/10.1145/3372123\n",
    "\n",
    "__[Graph Isomorphism Wiki](https://en.wikipedia.org/wiki/Graph_isomorphism)__\n",
    "\n",
    "Babai, L. (2017b) Graph Isomorphism January 9, 2017, The University of Chicago. Available at: http://people.cs.uchicago.edu/~laci/update.html.\n"
   ]
  }
 ],
 "metadata": {
  "kernelspec": {
   "display_name": "base",
   "language": "python",
   "name": "python3"
  },
  "language_info": {
   "codemirror_mode": {
    "name": "ipython",
    "version": 3
   },
   "file_extension": ".py",
   "mimetype": "text/x-python",
   "name": "python",
   "nbconvert_exporter": "python",
   "pygments_lexer": "ipython3",
   "version": "3.9.13"
  },
  "orig_nbformat": 4,
  "vscode": {
   "interpreter": {
    "hash": "7679c2132d3f6ce38c9df14d554b39c06862b36a4e6689c81f9ae15bd0911d7d"
   }
  }
 },
 "nbformat": 4,
 "nbformat_minor": 2
}
